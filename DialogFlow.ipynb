{
 "cells": [
  {
   "cell_type": "code",
   "execution_count": 2,
   "metadata": {},
   "outputs": [],
   "source": [
    "import os\n",
    "os.environ[\"GOOGLE_APPLICATION_CREDENTIALS\"] = \"client.json\"\n",
    "\n",
    "import dialogflow_v2 as dialogflow\n",
    "dialogflow_session_client = dialogflow.SessionsClient()\n",
    "PROJECT_ID = \"newsbot-ktrrxf\""
   ]
  },
  {
   "cell_type": "code",
   "execution_count": 3,
   "metadata": {},
   "outputs": [],
   "source": [
    "def detect_intent_from_text(text, session_id, language_code='en'):\n",
    "    session = dialogflow_session_client.session_path(PROJECT_ID, session_id)\n",
    "    text_input = dialogflow.types.TextInput(text=text, language_code=language_code)\n",
    "    query_input = dialogflow.types.QueryInput(text=text_input)\n",
    "    response = dialogflow_session_client.detect_intent(session=session, query_input=query_input)\n",
    "    return response.query_result"
   ]
  },
  {
   "cell_type": "code",
   "execution_count": 4,
   "metadata": {},
   "outputs": [],
   "source": [
    "response = detect_intent_from_text(\"show me sports news from india in hindi\", 12345)"
   ]
  },
  {
   "cell_type": "code",
   "execution_count": 5,
   "metadata": {},
   "outputs": [
    {
     "data": {
      "text/plain": [
       "query_text: \"show me sports news from india in hindi\"\n",
       "parameters {\n",
       "  fields {\n",
       "    key: \"geo-country\"\n",
       "    value {\n",
       "      string_value: \"India\"\n",
       "    }\n",
       "  }\n",
       "  fields {\n",
       "    key: \"language\"\n",
       "    value {\n",
       "      list_value {\n",
       "        values {\n",
       "          string_value: \"Hindi\"\n",
       "        }\n",
       "      }\n",
       "    }\n",
       "  }\n",
       "  fields {\n",
       "    key: \"topic\"\n",
       "    value {\n",
       "      string_value: \"Sports\"\n",
       "    }\n",
       "  }\n",
       "}\n",
       "all_required_params_present: true\n",
       "fulfillment_messages {\n",
       "  text {\n",
       "    text: \"\"\n",
       "  }\n",
       "}\n",
       "intent {\n",
       "  name: \"projects/newsbot-ktrrxf/agent/intents/154a4c1d-b311-427e-a997-83a7225426e7\"\n",
       "  display_name: \"get_news\"\n",
       "}\n",
       "intent_detection_confidence: 1.0\n",
       "language_code: \"en\""
      ]
     },
     "execution_count": 5,
     "metadata": {},
     "output_type": "execute_result"
    }
   ],
   "source": [
    "response"
   ]
  },
  {
   "cell_type": "code",
   "execution_count": 6,
   "metadata": {},
   "outputs": [
    {
     "data": {
      "text/plain": [
       "'get_news'"
      ]
     },
     "execution_count": 6,
     "metadata": {},
     "output_type": "execute_result"
    }
   ],
   "source": [
    "response.intent.display_name"
   ]
  },
  {
   "cell_type": "code",
   "execution_count": 7,
   "metadata": {},
   "outputs": [
    {
     "data": {
      "text/plain": [
       "{'geo-country': 'India',\n",
       " 'language': values {\n",
       "   string_value: \"Hindi\"\n",
       " },\n",
       " 'topic': 'Sports'}"
      ]
     },
     "execution_count": 7,
     "metadata": {},
     "output_type": "execute_result"
    }
   ],
   "source": [
    "dict(response.parameters)"
   ]
  },
  {
   "cell_type": "code",
   "execution_count": 8,
   "metadata": {},
   "outputs": [],
   "source": [
    "from gnewsclient import gnewsclient"
   ]
  },
  {
   "cell_type": "code",
   "execution_count": 9,
   "metadata": {},
   "outputs": [],
   "source": [
    "client = gnewsclient.NewsClient()"
   ]
  },
  {
   "cell_type": "code",
   "execution_count": 10,
   "metadata": {},
   "outputs": [
    {
     "data": {
      "text/plain": [
       "{'location': 'United States', 'language': 'english', 'topic': 'Top Stories'}"
      ]
     },
     "execution_count": 10,
     "metadata": {},
     "output_type": "execute_result"
    }
   ],
   "source": [
    "client.get_config()"
   ]
  },
  {
   "cell_type": "code",
   "execution_count": 11,
   "metadata": {},
   "outputs": [],
   "source": [
    "client.location = 'India'\n",
    "client.language = 'Hindi'\n",
    "client.topic = 'Sports'"
   ]
  },
  {
   "cell_type": "code",
   "execution_count": 12,
   "metadata": {},
   "outputs": [
    {
     "data": {
      "text/plain": [
       "{'location': 'India', 'language': 'Hindi', 'topic': 'Sports'}"
      ]
     },
     "execution_count": 12,
     "metadata": {},
     "output_type": "execute_result"
    }
   ],
   "source": [
    "client.get_config()"
   ]
  },
  {
   "cell_type": "code",
   "execution_count": 13,
   "metadata": {
    "scrolled": true
   },
   "outputs": [
    {
     "data": {
      "text/plain": [
       "[{'title': '8 जुलाई से फिर शुरू होगा क्रिकेट/ बॉल से कोरोना का खतरा नहीं, संक्रमित कपड़े से सफाई के 30 सेकंड बाद बॉल पर वायरस नहीं मिला - Dainik Bhaskar',\n",
       "  'link': 'https://news.google.com/__i/rss/rd/articles/CBMiuAFodHRwczovL3d3dy5iaGFza2FyLmNvbS9zcG9ydHMvY3JpY2tldC9uZXdzL3RoZXJlLWlzLW5vLWRhbmdlci1vZi1jb3JvbmEtZnJvbS10aGUtYmFsbC12aXJ1cy1pcy1ub3QtZGV0ZWN0ZWQtb24tdGhlLWJhbGwtYWZ0ZXItMzAtc2Vjb25kcy1vZi1jbGVhbmluZy13aXRoLWluZmVjdGVkLWNsb3RoLTEyNzQ3OTUzNC5odG1s0gG8AWh0dHBzOi8vd3d3LmJoYXNrYXIuY29tL2FtcC9zcG9ydHMvY3JpY2tldC9uZXdzL3RoZXJlLWlzLW5vLWRhbmdlci1vZi1jb3JvbmEtZnJvbS10aGUtYmFsbC12aXJ1cy1pcy1ub3QtZGV0ZWN0ZWQtb24tdGhlLWJhbGwtYWZ0ZXItMzAtc2Vjb25kcy1vZi1jbGVhbmluZy13aXRoLWluZmVjdGVkLWNsb3RoLTEyNzQ3OTUzNC5odG1s?oc=5',\n",
       "  'media': None},\n",
       " {'title': 'इतने साल बाद क्यों उठा वर्ल्ड कप 2011 में फिक्सिंग का मामला? जाने इसके पीछे का सच! - Zee News Hindi',\n",
       "  'link': 'https://news.google.com/__i/rss/rd/articles/CBMinQFodHRwczovL3plZW5ld3MuaW5kaWEuY29tL2hpbmRpL3Nwb3J0cy9jcmlja2V0L3doeS1hZnRlci1zby1tYW55LXllYXJzLW5vdy1pY2Mtd29ybGQtY3VwLTIwMTEtZmluYWwtaW4tcXVlc3Rpb25zLWtub3ctd2hhdHMtdGhlLXJlYWwtdHJ1dGgtYmVoaW5kLXRoaXMvNzA1ODUx0gGhAWh0dHBzOi8vemVlbmV3cy5pbmRpYS5jb20vaGluZGkvc3BvcnRzL2NyaWNrZXQvd2h5LWFmdGVyLXNvLW1hbnkteWVhcnMtbm93LWljYy13b3JsZC1jdXAtMjAxMS1maW5hbC1pbi1xdWVzdGlvbnMta25vdy13aGF0cy10aGUtcmVhbC10cnV0aC1iZWhpbmQtdGhpcy83MDU4NTEvYW1w?oc=5',\n",
       "  'media': None},\n",
       " {'title': 'कोरोना काल में टेस्ट मैच: वेस्टइंडीज से मुकाबले के लिए इंग्लैंड ने किया 13 सदस्यीय टीम का ऐलान, बेन स्टोक्स कप्तान - Navbharat Times',\n",
       "  'link': 'https://news.google.com/__i/rss/rd/articles/CBMirgFodHRwczovL25hdmJoYXJhdHRpbWVzLmluZGlhdGltZXMuY29tL3Nwb3J0cy9jcmlja2V0L2NyaWNrZXQtbmV3cy9lbmdsYW5kLWFubm91bmNlcy0xMy1tYW4tc3F1YWQtZm9yLXRoZS1maXJzdC1yYWlzZS10aGUtYmF0LXRlc3QtYWdhaW5zdC13ZXN0LWluZGllcy9hcnRpY2xlc2hvdy83Njc4NTUyNS5jbXPSAbIBaHR0cHM6Ly9uYXZiaGFyYXR0aW1lcy5pbmRpYXRpbWVzLmNvbS9zcG9ydHMvY3JpY2tldC9jcmlja2V0LW5ld3MvZW5nbGFuZC1hbm5vdW5jZXMtMTMtbWFuLXNxdWFkLWZvci10aGUtZmlyc3QtcmFpc2UtdGhlLWJhdC10ZXN0LWFnYWluc3Qtd2VzdC1pbmRpZXMvYW1wX2FydGljbGVzaG93Lzc2Nzg1NTI1LmNtcw?oc=5',\n",
       "  'media': None},\n",
       " {'title': 'विराट कोहली से बाबर आजम की तुलना पर पूर्व पाकिस्तानी कप्तान ने दिया जवाब - दैनिक जागरण',\n",
       "  'link': 'https://news.google.com/__i/rss/rd/articles/CBMiaWh0dHBzOi8vd3d3LmphZ3Jhbi5jb20vY3JpY2tldC9hcG5pLWJhYXQtaW56YW1hbS11bC1oYXEtb24tdmlyYXQta29obGktdnMtYmFiYXItYXphbS1kZWJhdGUtMjA0NzI3ODguaHRtbNIBbGh0dHBzOi8vbS5qYWdyYW4uY29tL2xpdGUvY3JpY2tldC9hcG5pLWJhYXQtaW56YW1hbS11bC1oYXEtb24tdmlyYXQta29obGktdnMtYmFiYXItYXphbS1kZWJhdGUtMjA0NzI3ODguaHRtbA?oc=5',\n",
       "  'media': None},\n",
       " {'title': 'राजस्थान में बनने जा रहा दुनिया का तीसरा सबसे बड़ा क्रिकेट स्टेडियम, 75 हजार दर्शकों के बैठने की होगी क्षमता - अमर उजाला',\n",
       "  'link': 'https://news.google.com/__i/rss/rd/articles/CBMidWh0dHBzOi8vd3d3LmFtYXJ1amFsYS5jb20vY3JpY2tldC9jcmlja2V0LW5ld3MvcmFqYXN0aGFuLWNyaWNrZXQtY2xhaW1zLWJ1aWxkaW5nLTNyZC1sYXJnZXN0LWNyaWNrZXQtc3RhZGl1bS1pbi13b3JsZNIBeWh0dHBzOi8vd3d3LmFtYXJ1amFsYS5jb20vYW1wL2NyaWNrZXQvY3JpY2tldC1uZXdzL3JhamFzdGhhbi1jcmlja2V0LWNsYWltcy1idWlsZGluZy0zcmQtbGFyZ2VzdC1jcmlja2V0LXN0YWRpdW0taW4td29ybGQ?oc=5',\n",
       "  'media': None},\n",
       " {'title': 'नासिर हुसैन का खुलासा- सिर्फ सचिन से निपटने के लिए टीम को क्या करना पड़ता था - आज तक',\n",
       "  'link': 'https://news.google.com/__i/rss/rd/articles/CBMilAFodHRwczovL2FhanRhay5pbnRvZGF5LmluL3Nwb3J0cy9zdG9yeS9mb3Jnb3QtY291bnQtb2YtaG93LW1hbnktdGVhbS1tZWV0aW5ncy13ZXJlLWhlbGQtdG8tZGlzY3Vzcy10ZW5kdWxrYXItc2F5cy1uYXNzZXItaHVzc2Fpbi10c3BvLTEtMTIwNzE0OS5odG1s0gGSAWh0dHBzOi8vYWFqdGFrLmludG9kYXkuaW4vbGl0ZS9zdG9yeS9mb3Jnb3QtY291bnQtb2YtaG93LW1hbnktdGVhbS1tZWV0aW5ncy13ZXJlLWhlbGQtdG8tZGlzY3Vzcy10ZW5kdWxrYXItc2F5cy1uYXNzZXItaHVzc2Fpbi10c3BvLTEtMTIwNzE0OS5odG1s?oc=5',\n",
       "  'media': None},\n",
       " {'title': 'विराट कोहली से भिड़ना नहीं चाहते ऑस्ट्रेलियाई तेज गेंदबाज जोश हेजलवुड, बताई दमदार वजह - Navbharat Times',\n",
       "  'link': 'https://news.google.com/__i/rss/rd/articles/CBMinwFodHRwczovL25hdmJoYXJhdHRpbWVzLmluZGlhdGltZXMuY29tL3Nwb3J0cy9jcmlja2V0L2NyaWNrZXQtbmV3cy9qb3NoLWhhemxld29vZC13YW50cy10by1zdGVlci1jbGVhci1vZi12ZXJiYWwtZHVlbHMtd2l0aC12aXJhdC1rb2hsaS9hcnRpY2xlc2hvdy83Njc4ODczMC5jbXPSAaMBaHR0cHM6Ly9uYXZiaGFyYXR0aW1lcy5pbmRpYXRpbWVzLmNvbS9zcG9ydHMvY3JpY2tldC9jcmlja2V0LW5ld3Mvam9zaC1oYXpsZXdvb2Qtd2FudHMtdG8tc3RlZXItY2xlYXItb2YtdmVyYmFsLWR1ZWxzLXdpdGgtdmlyYXQta29obGkvYW1wX2FydGljbGVzaG93Lzc2Nzg4NzMwLmNtcw?oc=5',\n",
       "  'media': None},\n",
       " {'title': 'VIDEO: शाहिद अफरीदी का दावा, हार का सामना करने के बाद टीम इंडिया मांगती थी पाकिस्तान से माफी - Hindustan',\n",
       "  'link': 'https://news.google.com/__i/rss/rd/articles/CBMipwFodHRwczovL3d3dy5saXZlaGluZHVzdGFuLmNvbS9jcmlja2V0L3N0b3J5LXNoYWhpZC1hZnJpZGktY2xhaW1zLWluZGlhbi10ZWFtLXNvdWdodC1mb3JnaXZlbmVzcy1mcm9tLXBha2lzdGFuLWFmdGVyLWZhY2luZy1kZWZlYXRzLWluLXRoZS1wYXN0LXdhdGNoLXZpZGVvLTMzMjc5OTMuaHRtbNIBqQFodHRwczovL20ubGl2ZWhpbmR1c3Rhbi5jb20vY3JpY2tldC9zdG9yeS1zaGFoaWQtYWZyaWRpLWNsYWltcy1pbmRpYW4tdGVhbS1zb3VnaHQtZm9yZ2l2ZW5lc3MtZnJvbS1wYWtpc3Rhbi1hZnRlci1mYWNpbmctZGVmZWF0cy1pbi10aGUtcGFzdC13YXRjaC12aWRlby0zMzI3OTkzLmFtcC5odG1s?oc=5',\n",
       "  'media': None},\n",
       " {'title': 'पाकिस्तानी हिंदुओं की मदद के लिए उनके मोहल्ले में पहुंचे शिखर धवन, दान की क्रिकेट किट और टॉयलेट - News18 हिंदी',\n",
       "  'link': 'https://news.google.com/__i/rss/rd/articles/CBMinwFodHRwczovL2hpbmRpLm5ld3MxOC5jb20vcGhvdG9nYWxsZXJ5L3Nwb3J0cy9jcmlja2V0LXNoaWtoYXItZGhhd2FuLXdlbnQtdG8taGVscC1wYWtpc3RhbmktaGluZHUtcmVmdWdlZXMtaW4tZGVsaGktZG9uYXRlZC10b2lsZXRzLWFuZC1jcmlja2V0LWtpdC0zMTY4MzA3Lmh0bWzSAaMBaHR0cHM6Ly9oaW5kaS5uZXdzMTguY29tL2FtcC9waG90b2dhbGxlcnkvc3BvcnRzL2NyaWNrZXQtc2hpa2hhci1kaGF3YW4td2VudC10by1oZWxwLXBha2lzdGFuaS1oaW5kdS1yZWZ1Z2Vlcy1pbi1kZWxoaS1kb25hdGVkLXRvaWxldHMtYW5kLWNyaWNrZXQta2l0LTMxNjgzMDcuaHRtbA?oc=5',\n",
       "  'media': None},\n",
       " {'title': 'पूर्व मुख्य चयनकर्ता बोले, मैंने नेट्स में सुनील गावस्कर जैसा खराब बल्लेबाज कभी नहीं देखा - दैनिक जागरण',\n",
       "  'link': 'https://news.google.com/__i/rss/rd/articles/CBMikgFodHRwczovL3d3dy5qYWdyYW4uY29tL2NyaWNrZXQvYXBuaS1iYWF0LWtpcmFuLW1vcmUtc2hvY2tpbmctc3RhdGVtZW50LXN1bmlsLWdhdmFza2FyLW9uZS1vZi10aGUtd29yc3QtcGxheWVycy1ldmVyLXNlZW4taW4tdGhlLW5ldHMtMjA0NzI2MjYuaHRtbNIBlQFodHRwczovL20uamFncmFuLmNvbS9saXRlL2NyaWNrZXQvYXBuaS1iYWF0LWtpcmFuLW1vcmUtc2hvY2tpbmctc3RhdGVtZW50LXN1bmlsLWdhdmFza2FyLW9uZS1vZi10aGUtd29yc3QtcGxheWVycy1ldmVyLXNlZW4taW4tdGhlLW5ldHMtMjA0NzI2MjYuaHRtbA?oc=5',\n",
       "  'media': None}]"
      ]
     },
     "execution_count": 13,
     "metadata": {},
     "output_type": "execute_result"
    }
   ],
   "source": [
    "client.get_news()"
   ]
  },
  {
   "cell_type": "code",
   "execution_count": null,
   "metadata": {},
   "outputs": [],
   "source": []
  }
 ],
 "metadata": {
  "kernelspec": {
   "display_name": "Python 3",
   "language": "python",
   "name": "python3"
  },
  "language_info": {
   "codemirror_mode": {
    "name": "ipython",
    "version": 3
   },
   "file_extension": ".py",
   "mimetype": "text/x-python",
   "name": "python",
   "nbconvert_exporter": "python",
   "pygments_lexer": "ipython3",
   "version": "3.7.6"
  }
 },
 "nbformat": 4,
 "nbformat_minor": 4
}
